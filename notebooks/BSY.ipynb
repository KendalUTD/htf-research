{
  "nbformat": 4,
  "nbformat_minor": 0,
  "metadata": {
    "language_info": {
      "codemirror_mode": {
        "name": "ipython",
        "version": 3
      },
      "file_extension": ".py",
      "mimetype": "text/x-python",
      "name": "python",
      "nbconvert_exporter": "python",
      "pygments_lexer": "ipython3",
      "version": "3.8.5-final"
    },
    "orig_nbformat": 2,
    "kernelspec": {
      "name": "Python 3.8.5 64-bit",
      "display_name": "Python 3.8.5 64-bit",
      "metadata": {
        "interpreter": {
          "hash": "aee8b7b246df8f9039afb4144a1f6fd8d2ca17a180786b69acc140d282b71a49"
        }
      }
    },
    "colab": {
      "name": "starter-notebook.ipynb",
      "provenance": [],
      "toc_visible": true
    }
  },
  "cells": [
    {
      "cell_type": "markdown",
      "metadata": {
        "id": "tUdypJbZMKg8"
      },
      "source": [
        "# Comets of Wall Street\n",
        "In this workshop, you will:\n",
        "- pull in data from Yahoo Finance for a stock that's assigned to you\n",
        "- view and analyze that data using Pandas and Matplotlib\n",
        "- determine if a stock is overvalued based on various metrics\n",
        "- create an infographic showing the the stock's trends and whether you think it's overvalued\n",
        "- create a pull request to make it viewable on the workshop's website"
      ]
    },
    {
      "cell_type": "markdown",
      "metadata": {
        "id": "CnSqiQgfMKg9"
      },
      "source": [
        "## Part I: Pull in Data From Yahoo Finance\n",
        "\n",
        "For this workshop, we'll be using the `yfinance` *library* to retrieve data from Yahoo Finance.\n",
        "\n",
        "A *library* is an easily-reusable unit of code that does something for you. You can read more about libraries on TrackIT!\n",
        "\n",
        "Since the library we need might not be installed on the machine you're running it on, let's install it:"
      ]
    },
    {
      "cell_type": "code",
      "metadata": {
        "id": "Nhmww45fMKg-",
        "outputId": "3063f91c-f155-49e7-e62d-2b0070ca7d5f",
        "colab": {
          "base_uri": "https://localhost:8080/",
          "height": 1000
        }
      },
      "source": [
        "# The exclamation mark signifies that we're running a terminal command\n",
        "# Don't worry about the specifics of this command, just know it installs the yfinance library\n",
        "!pip3 install --upgrade --force-reinstall yfinance"
      ],
      "execution_count": 28,
      "outputs": [
        {
          "output_type": "stream",
          "text": [
            "Processing /root/.cache/pip/wheels/04/98/cc/2702a4242d60bdc14f48b4557c427ded1fe92aedf257d4565c/yfinance-0.1.55-py2.py3-none-any.whl\n",
            "Collecting requests>=2.20\n",
            "  Using cached https://files.pythonhosted.org/packages/45/1e/0c169c6a5381e241ba7404532c16a21d86ab872c9bed8bdcd4c423954103/requests-2.24.0-py2.py3-none-any.whl\n",
            "Collecting lxml>=4.5.1\n",
            "  Using cached https://files.pythonhosted.org/packages/7e/49/f7c5f4ec1913f37a2ecab69c42f95397416606b35ec3ed9373cc456833de/lxml-4.6.0-cp36-cp36m-manylinux1_x86_64.whl\n",
            "Collecting pandas>=0.24\n",
            "  Using cached https://files.pythonhosted.org/packages/a2/21/e10d65222d19a2537e3eb0df306686a9eabd08b3c98dd120e43720bf802d/pandas-1.1.3-cp36-cp36m-manylinux1_x86_64.whl\n",
            "Processing /root/.cache/pip/wheels/37/fa/73/d492849e319038eb4d986f5152e4b19ffb1bc0639da84d2677/multitasking-0.0.9-cp36-none-any.whl\n",
            "Collecting numpy>=1.15\n",
            "  Using cached https://files.pythonhosted.org/packages/63/97/af8a92864a04bfa48f1b5c9b1f8bf2ccb2847f24530026f26dd223de4ca0/numpy-1.19.2-cp36-cp36m-manylinux2010_x86_64.whl\n",
            "Collecting urllib3!=1.25.0,!=1.25.1,<1.26,>=1.21.1\n",
            "  Using cached https://files.pythonhosted.org/packages/9f/f0/a391d1463ebb1b233795cabfc0ef38d3db4442339de68f847026199e69d7/urllib3-1.25.10-py2.py3-none-any.whl\n",
            "Collecting chardet<4,>=3.0.2\n",
            "  Using cached https://files.pythonhosted.org/packages/bc/a9/01ffebfb562e4274b6487b4bb1ddec7ca55ec7510b22e4c51f14098443b8/chardet-3.0.4-py2.py3-none-any.whl\n",
            "Collecting idna<3,>=2.5\n",
            "  Using cached https://files.pythonhosted.org/packages/a2/38/928ddce2273eaa564f6f50de919327bf3a00f091b5baba8dfa9460f3a8a8/idna-2.10-py2.py3-none-any.whl\n",
            "Collecting certifi>=2017.4.17\n",
            "  Using cached https://files.pythonhosted.org/packages/5e/c4/6c4fe722df5343c33226f0b4e0bb042e4dc13483228b4718baf286f86d87/certifi-2020.6.20-py2.py3-none-any.whl\n",
            "Collecting pytz>=2017.2\n",
            "  Using cached https://files.pythonhosted.org/packages/4f/a4/879454d49688e2fad93e59d7d4efda580b783c745fd2ec2a3adf87b0808d/pytz-2020.1-py2.py3-none-any.whl\n",
            "Collecting python-dateutil>=2.7.3\n",
            "  Using cached https://files.pythonhosted.org/packages/d4/70/d60450c3dd48ef87586924207ae8907090de0b306af2bce5d134d78615cb/python_dateutil-2.8.1-py2.py3-none-any.whl\n",
            "Collecting six>=1.5\n",
            "  Using cached https://files.pythonhosted.org/packages/ee/ff/48bde5c0f013094d729fe4b0316ba2a24774b3ff1c52d924a8a4cb04078a/six-1.15.0-py2.py3-none-any.whl\n",
            "\u001b[31mERROR: tensorflow 2.3.0 has requirement numpy<1.19.0,>=1.16.0, but you'll have numpy 1.19.2 which is incompatible.\u001b[0m\n",
            "\u001b[31mERROR: nbclient 0.5.0 has requirement jupyter-client>=6.1.5, but you'll have jupyter-client 5.3.5 which is incompatible.\u001b[0m\n",
            "\u001b[31mERROR: kaggle 1.5.8 has requirement urllib3<1.25,>=1.21.1, but you'll have urllib3 1.25.10 which is incompatible.\u001b[0m\n",
            "\u001b[31mERROR: google-colab 1.0.0 has requirement requests~=2.23.0, but you'll have requests 2.24.0 which is incompatible.\u001b[0m\n",
            "\u001b[31mERROR: datascience 0.10.6 has requirement folium==0.2.1, but you'll have folium 0.8.3 which is incompatible.\u001b[0m\n",
            "\u001b[31mERROR: albumentations 0.1.12 has requirement imgaug<0.2.7,>=0.2.5, but you'll have imgaug 0.2.9 which is incompatible.\u001b[0m\n",
            "Installing collected packages: urllib3, chardet, idna, certifi, requests, lxml, numpy, pytz, six, python-dateutil, pandas, multitasking, yfinance\n",
            "  Found existing installation: urllib3 1.25.10\n",
            "    Uninstalling urllib3-1.25.10:\n",
            "      Successfully uninstalled urllib3-1.25.10\n",
            "  Found existing installation: chardet 3.0.4\n",
            "    Uninstalling chardet-3.0.4:\n",
            "      Successfully uninstalled chardet-3.0.4\n",
            "  Found existing installation: idna 2.10\n",
            "    Uninstalling idna-2.10:\n",
            "      Successfully uninstalled idna-2.10\n",
            "  Found existing installation: certifi 2020.6.20\n",
            "    Uninstalling certifi-2020.6.20:\n",
            "      Successfully uninstalled certifi-2020.6.20\n",
            "  Found existing installation: requests 2.24.0\n",
            "    Uninstalling requests-2.24.0:\n",
            "      Successfully uninstalled requests-2.24.0\n",
            "  Found existing installation: lxml 4.6.0\n",
            "    Uninstalling lxml-4.6.0:\n",
            "      Successfully uninstalled lxml-4.6.0\n",
            "  Found existing installation: numpy 1.19.2\n",
            "    Uninstalling numpy-1.19.2:\n",
            "      Successfully uninstalled numpy-1.19.2\n",
            "  Found existing installation: pytz 2020.1\n",
            "    Uninstalling pytz-2020.1:\n",
            "      Successfully uninstalled pytz-2020.1\n",
            "  Found existing installation: six 1.15.0\n",
            "    Uninstalling six-1.15.0:\n",
            "      Successfully uninstalled six-1.15.0\n",
            "  Found existing installation: python-dateutil 2.8.1\n",
            "    Uninstalling python-dateutil-2.8.1:\n",
            "      Successfully uninstalled python-dateutil-2.8.1\n",
            "  Found existing installation: pandas 1.1.3\n",
            "    Uninstalling pandas-1.1.3:\n",
            "      Successfully uninstalled pandas-1.1.3\n",
            "  Found existing installation: multitasking 0.0.9\n",
            "    Uninstalling multitasking-0.0.9:\n",
            "      Successfully uninstalled multitasking-0.0.9\n",
            "  Found existing installation: yfinance 0.1.55\n",
            "    Uninstalling yfinance-0.1.55:\n",
            "      Successfully uninstalled yfinance-0.1.55\n",
            "Successfully installed certifi-2020.6.20 chardet-3.0.4 idna-2.10 lxml-4.6.0 multitasking-0.0.9 numpy-1.19.2 pandas-1.1.3 python-dateutil-2.8.1 pytz-2020.1 requests-2.24.0 six-1.15.0 urllib3-1.25.10 yfinance-0.1.55\n"
          ],
          "name": "stdout"
        },
        {
          "output_type": "display_data",
          "data": {
            "application/vnd.colab-display-data+json": {
              "pip_warning": {
                "packages": [
                  "certifi",
                  "chardet",
                  "dateutil",
                  "idna",
                  "lxml",
                  "multitasking",
                  "numpy",
                  "pandas",
                  "pytz",
                  "requests",
                  "six",
                  "urllib3",
                  "yfinance"
                ]
              }
            }
          },
          "metadata": {
            "tags": []
          }
        }
      ]
    },
    {
      "cell_type": "markdown",
      "metadata": {
        "id": "VrqSd71qMKhC"
      },
      "source": [
        "Now that we've made sure it's installed, let's pull it into our project:"
      ]
    },
    {
      "cell_type": "code",
      "metadata": {
        "id": "cgXEIDl1MKhC"
      },
      "source": [
        "import yfinance as yf"
      ],
      "execution_count": 29,
      "outputs": []
    },
    {
      "cell_type": "markdown",
      "metadata": {
        "id": "AgLSNvRFMKhF"
      },
      "source": [
        "Awesome. All the methods and properties inside the library are now inside the variable `yf`.\n",
        "\n",
        "To access something inside the library, we use the dot operator. For example, this is a method inside the package: `yf.download`.\n",
        "\n",
        "Now, it's time to download our stock's data using this `yfinance` library. Create a variable called `ticker` below that contains a string of your stock's ticker:"
      ]
    },
    {
      "cell_type": "code",
      "metadata": {
        "id": "lp7UQ4rmMKhG"
      },
      "source": [
        "# replace this line with the variable described above!\n",
        "ticker = 'BSY' "
      ],
      "execution_count": 30,
      "outputs": []
    },
    {
      "cell_type": "markdown",
      "metadata": {
        "id": "xy1DXEYWMKhJ"
      },
      "source": [
        "Let's create a `yf.Ticker` object using the `yf.Ticker(ticker)` method using the variable we just declared:"
      ]
    },
    {
      "cell_type": "code",
      "metadata": {
        "id": "oYsgwytdMKhJ"
      },
      "source": [
        "# create a yf.Ticker object using the variable you just created above!\n",
        "my_stock = yf.Ticker(ticker)"
      ],
      "execution_count": 31,
      "outputs": []
    },
    {
      "cell_type": "markdown",
      "metadata": {
        "id": "PvN9hV5pMKhM"
      },
      "source": [
        "Let's use that to get some basic info about the stock and store it in a variable called `stock_info`, using the `info` property on our Ticker object created above."
      ]
    },
    {
      "cell_type": "code",
      "metadata": {
        "id": "YUKRcoSZMKhN",
        "outputId": "aa174b02-90f3-4d82-a132-6c8126ecc5c7",
        "colab": {
          "base_uri": "https://localhost:8080/",
          "height": 1000
        }
      },
      "source": [
        "stock_info = my_stock.info\n",
        "stock_info"
      ],
      "execution_count": 32,
      "outputs": [
        {
          "output_type": "execute_result",
          "data": {
            "text/plain": [
              "{'52WeekChange': 0.19408774,\n",
              " 'SandP52WeekChange': 0.1586746,\n",
              " 'address1': '685 Stockton Drive',\n",
              " 'algorithm': None,\n",
              " 'annualHoldingsTurnover': None,\n",
              " 'annualReportExpenseRatio': None,\n",
              " 'ask': 40.32,\n",
              " 'askSize': 900,\n",
              " 'averageDailyVolume10Day': 285562,\n",
              " 'averageVolume': 796088,\n",
              " 'averageVolume10days': 285562,\n",
              " 'beta': None,\n",
              " 'beta3Year': None,\n",
              " 'bid': 39.99,\n",
              " 'bidSize': 900,\n",
              " 'bookValue': None,\n",
              " 'category': None,\n",
              " 'circulatingSupply': None,\n",
              " 'city': 'Exton',\n",
              " 'companyOfficers': [],\n",
              " 'country': 'United States',\n",
              " 'currency': 'USD',\n",
              " 'dateShortInterest': 1601424000,\n",
              " 'dayHigh': 40.3849,\n",
              " 'dayLow': 39.2,\n",
              " 'dividendRate': None,\n",
              " 'dividendYield': None,\n",
              " 'earningsQuarterlyGrowth': 0.481,\n",
              " 'enterpriseToEbitda': 48.584,\n",
              " 'enterpriseToRevenue': 13.66,\n",
              " 'enterpriseValue': 10497406976,\n",
              " 'exDividendDate': None,\n",
              " 'exchange': 'NMS',\n",
              " 'exchangeTimezoneName': 'America/New_York',\n",
              " 'exchangeTimezoneShortName': 'EDT',\n",
              " 'expireDate': None,\n",
              " 'fax': '610 458 1060',\n",
              " 'fiftyDayAverage': 32.680557,\n",
              " 'fiftyTwoWeekHigh': 40.385,\n",
              " 'fiftyTwoWeekLow': 27,\n",
              " 'fiveYearAverageReturn': None,\n",
              " 'fiveYearAvgDividendYield': None,\n",
              " 'floatShares': 30275653,\n",
              " 'forwardEps': None,\n",
              " 'forwardPE': None,\n",
              " 'fromCurrency': None,\n",
              " 'fullTimeEmployees': 4010,\n",
              " 'fundFamily': None,\n",
              " 'fundInceptionDate': None,\n",
              " 'gmtOffSetMilliseconds': '-14400000',\n",
              " 'heldPercentInsiders': None,\n",
              " 'heldPercentInstitutions': None,\n",
              " 'industry': 'Software—Application',\n",
              " 'isEsgPopulated': False,\n",
              " 'lastCapGain': None,\n",
              " 'lastDividendDate': None,\n",
              " 'lastDividendValue': None,\n",
              " 'lastFiscalYearEnd': 1577750400,\n",
              " 'lastMarket': None,\n",
              " 'lastSplitDate': 835142400,\n",
              " 'lastSplitFactor': '1:10',\n",
              " 'legalType': None,\n",
              " 'logo_url': 'https://logo.clearbit.com/bentley.com',\n",
              " 'longBusinessSummary': 'Bentley Systems, Incorporated develops software for infrastructure design, construction, and operations. It provides MicroStation, a modeling, documentation, and visualization solution for information modeling; ProjectWise, a project information management and collaboration solution; AssetWise, an asset information management solution; PlantSight, a digital solution to benefit customers through plant operations; and SYNCHRO XR for HoloLens 2 that enables users to interact collaboratively with digital construction models using gestures to plan, visualize, and experience construction sequencing. The company also offers iModelHub, a cloud platform to accelerate going digital for users of its ProjectWise design integration services; OpenSite Designer, an integrated application for civil site and land development workflows across conceptual, preliminary, and detailed design phases; and iModel.js, an open-source library to improve the accessibility for visualization and analytical visibility of infrastructure digital twins. In addition, it provides solution implementation, on-boarding, change management, consulting, and on premise managed services. The company serves engineers, architects, planners, contractors, fabricators, information technology managers, and operators. Bentley Systems, Incorporated has a strategic alliance agreement with Siemens. The company was founded in 1984 and is headquartered in Exton, Pennsylvania.',\n",
              " 'longName': 'Bentley Systems, Incorporated',\n",
              " 'market': 'us_market',\n",
              " 'marketCap': 10446788608,\n",
              " 'maxAge': 1,\n",
              " 'maxSupply': None,\n",
              " 'messageBoardId': 'finmb_25514',\n",
              " 'morningStarOverallRating': None,\n",
              " 'morningStarRiskRating': None,\n",
              " 'mostRecentQuarter': 1593475200,\n",
              " 'navPrice': None,\n",
              " 'netIncomeToCommon': 125427000,\n",
              " 'nextFiscalYearEnd': 1640908800,\n",
              " 'open': 39.49,\n",
              " 'openInterest': None,\n",
              " 'payoutRatio': 0,\n",
              " 'pegRatio': None,\n",
              " 'phone': '610 458 5000',\n",
              " 'previousClose': 39.19,\n",
              " 'priceHint': 2,\n",
              " 'priceToBook': None,\n",
              " 'priceToSalesTrailing12Months': 13.593916,\n",
              " 'profitMargins': 0.16320999,\n",
              " 'quoteType': 'EQUITY',\n",
              " 'regularMarketDayHigh': 40.3849,\n",
              " 'regularMarketDayLow': 39.2,\n",
              " 'regularMarketOpen': 39.49,\n",
              " 'regularMarketPreviousClose': 39.19,\n",
              " 'regularMarketPrice': 39.49,\n",
              " 'regularMarketVolume': 202988,\n",
              " 'revenueQuarterlyGrowth': None,\n",
              " 'sector': 'Technology',\n",
              " 'sharesOutstanding': 249632992,\n",
              " 'sharesPercentSharesOut': 0.0011,\n",
              " 'sharesShort': 291631,\n",
              " 'sharesShortPreviousMonthDate': None,\n",
              " 'sharesShortPriorMonth': None,\n",
              " 'shortName': 'Bentley Systems, Incorporated',\n",
              " 'shortPercentOfFloat': 0.0019,\n",
              " 'shortRatio': 0.16,\n",
              " 'startDate': None,\n",
              " 'state': 'PA',\n",
              " 'strikePrice': None,\n",
              " 'symbol': 'BSY',\n",
              " 'threeYearAverageReturn': None,\n",
              " 'toCurrency': None,\n",
              " 'totalAssets': None,\n",
              " 'tradeable': False,\n",
              " 'trailingAnnualDividendRate': None,\n",
              " 'trailingAnnualDividendYield': None,\n",
              " 'trailingEps': None,\n",
              " 'twoHundredDayAverage': 32.680557,\n",
              " 'volume': 202988,\n",
              " 'volume24Hr': None,\n",
              " 'volumeAllCurrencies': None,\n",
              " 'website': 'http://www.bentley.com',\n",
              " 'yield': None,\n",
              " 'ytdReturn': None,\n",
              " 'zip': '19341'}"
            ]
          },
          "metadata": {
            "tags": []
          },
          "execution_count": 32
        }
      ]
    },
    {
      "cell_type": "markdown",
      "metadata": {
        "id": "ybt71WowMKhQ"
      },
      "source": [
        "You can see above that there's multiple strings mapped to values with a colon. This is called a `dictionary` in Python. Let's get some (basic) useful stuff from this dictionary!\n",
        "\n",
        "To get values from a dictionary, you just use the name of the dictionary along with a string (called a `key`) of the value you want. For example, to get the `shortRatio` of our stock, we would type in `stock_info['shortRatio']`. Let's try getting the following useful values from our `stock_info` dictionary:\n",
        "\n",
        "- logo_url\n",
        "- sector\n",
        "- industry\n",
        "- shortName\n",
        "- pegRatio\n",
        "- trailingEps\n",
        "- forwardEps\n",
        "- previousClose\n",
        "\n",
        "You can read more about dictionaries on TrackIT!"
      ]
    },
    {
      "cell_type": "code",
      "metadata": {
        "id": "-EvPssq8MKhQ"
      },
      "source": [
        "logo_url = 'logo_url'\n",
        "sector = 'sector'\n",
        "industry = 'industry'\n",
        "shortName = 'shortName'\n",
        "pegRatio = 'pegRatio'\n",
        "trailingEps = 'trailingEps'\n",
        "forwardEps = 'forwardEps'\n",
        "previousClose = 'previousClose'"
      ],
      "execution_count": 33,
      "outputs": []
    },
    {
      "cell_type": "markdown",
      "metadata": {
        "id": "TgGvqr3hMKhT"
      },
      "source": [
        "Using some of this, let's print a short, human-readable summary about this stock:"
      ]
    },
    {
      "cell_type": "code",
      "metadata": {
        "id": "_PnmPvucMKhU",
        "outputId": "a8baff80-d137-403e-e737-6f4b1967342e",
        "colab": {
          "base_uri": "https://localhost:8080/",
          "height": 53
        }
      },
      "source": [
        "# This uses a feature called string interpolation, which you can read about on TrackIT.\n",
        "f'{shortName} (ticker: {my_stock.ticker}) is a {sector} stock in the {industry} industry. It recently closed at ${previousClose} per share. Some useful metrics to know about this stock are its PEG ratio, which is {pegRatio} and has a trailing and forward EPS of {trailingEps} and {forwardEps}, respectively.'"
      ],
      "execution_count": 34,
      "outputs": [
        {
          "output_type": "execute_result",
          "data": {
            "application/vnd.google.colaboratory.intrinsic+json": {
              "type": "string"
            },
            "text/plain": [
              "'shortName (ticker: BSY) is a sector stock in the industry industry. It recently closed at $previousClose per share. Some useful metrics to know about this stock are its PEG ratio, which is pegRatio and has a trailing and forward EPS of trailingEps and forwardEps, respectively.'"
            ]
          },
          "metadata": {
            "tags": []
          },
          "execution_count": 34
        }
      ]
    },
    {
      "cell_type": "markdown",
      "metadata": {
        "id": "2i9jzZfiMKhX"
      },
      "source": [
        "Perfect! Now let's get the price history of this stock for the last year. we'll do this using a new method from the `yfinance` library: `yf.download(ticker_symbol)` with the optional parameter `period`. Let's get data for the year to date (or `'ytd'`):"
      ]
    },
    {
      "cell_type": "code",
      "metadata": {
        "id": "dyxTNJSBMKhX",
        "outputId": "39868038-a5d2-405c-f768-4504ed909576",
        "colab": {
          "base_uri": "https://localhost:8080/",
          "height": 154
        }
      },
      "source": [
        "price_history = yf.download(ticker, period='BSY') # fill in the rest here!\n",
        "price_history"
      ],
      "execution_count": 35,
      "outputs": [
        {
          "output_type": "stream",
          "text": [
            "\r[*********************100%***********************]  1 of 1 completed\n"
          ],
          "name": "stdout"
        },
        {
          "output_type": "execute_result",
          "data": {
            "text/html": [
              "<div>\n",
              "<style scoped>\n",
              "    .dataframe tbody tr th:only-of-type {\n",
              "        vertical-align: middle;\n",
              "    }\n",
              "\n",
              "    .dataframe tbody tr th {\n",
              "        vertical-align: top;\n",
              "    }\n",
              "\n",
              "    .dataframe thead th {\n",
              "        text-align: right;\n",
              "    }\n",
              "</style>\n",
              "<table border=\"1\" class=\"dataframe\">\n",
              "  <thead>\n",
              "    <tr style=\"text-align: right;\">\n",
              "      <th></th>\n",
              "      <th>Open</th>\n",
              "      <th>High</th>\n",
              "      <th>Low</th>\n",
              "      <th>Close</th>\n",
              "      <th>Adj Close</th>\n",
              "      <th>Volume</th>\n",
              "    </tr>\n",
              "    <tr>\n",
              "      <th>Date</th>\n",
              "      <th></th>\n",
              "      <th></th>\n",
              "      <th></th>\n",
              "      <th></th>\n",
              "      <th></th>\n",
              "      <th></th>\n",
              "    </tr>\n",
              "  </thead>\n",
              "  <tbody>\n",
              "    <tr>\n",
              "      <th>2020-10-16</th>\n",
              "      <td>39.490002</td>\n",
              "      <td>40.384998</td>\n",
              "      <td>39.200001</td>\n",
              "      <td>39.990002</td>\n",
              "      <td>39.990002</td>\n",
              "      <td>203000</td>\n",
              "    </tr>\n",
              "    <tr>\n",
              "      <th>2020-10-16</th>\n",
              "      <td>39.490002</td>\n",
              "      <td>40.384899</td>\n",
              "      <td>39.200001</td>\n",
              "      <td>39.990002</td>\n",
              "      <td>39.990002</td>\n",
              "      <td>202988</td>\n",
              "    </tr>\n",
              "  </tbody>\n",
              "</table>\n",
              "</div>"
            ],
            "text/plain": [
              "                 Open       High        Low      Close  Adj Close  Volume\n",
              "Date                                                                     \n",
              "2020-10-16  39.490002  40.384998  39.200001  39.990002  39.990002  203000\n",
              "2020-10-16  39.490002  40.384899  39.200001  39.990002  39.990002  202988"
            ]
          },
          "metadata": {
            "tags": []
          },
          "execution_count": 35
        }
      ]
    },
    {
      "cell_type": "markdown",
      "metadata": {
        "id": "cHkuSp0iMKhZ"
      },
      "source": [
        "That's all the data we'll need for our workshop! Now, let's play around with this data using Python."
      ]
    },
    {
      "cell_type": "markdown",
      "metadata": {
        "id": "m3J4RkByMKha"
      },
      "source": [
        "## Part II: View and Analyze Data Using Pandas and Matplotlib\n",
        "\n",
        "We're presented with a table of dates, opening prices, daily highs and lows, closing pricces, adjusted closing prices, and trading volume for each day. The type of object this data is stored in is called a Pandas `DataFrame`, which is used a lot within data science and machine learning to work with tabular data (i.e. data that is in a table format). You can access each column similar to how you accessed a specific value in the dictionary by key (but keep in mind a DataFrame is *not* a dictionary). You can read more about DataFrames on TrackIT!\n",
        "\n",
        "<center><img src=\"https://www.cdn.geeksforgeeks.org/wp-content/uploads/creating_dataframe1.png\" width=\"700\" /></center>\n",
        "\n",
        "Let's access the Close price data from the DataFrame:"
      ]
    },
    {
      "cell_type": "code",
      "metadata": {
        "id": "kB_aX1WKMKha",
        "outputId": "f91104a3-4af6-4e43-b0f8-74f18d40f2af",
        "colab": {
          "base_uri": "https://localhost:8080/",
          "height": 87
        }
      },
      "source": [
        "# access Close price data from DataFrame!\n",
        "price_history['Close']"
      ],
      "execution_count": 36,
      "outputs": [
        {
          "output_type": "execute_result",
          "data": {
            "text/plain": [
              "Date\n",
              "2020-10-16    39.990002\n",
              "2020-10-16    39.990002\n",
              "Name: Close, dtype: float64"
            ]
          },
          "metadata": {
            "tags": []
          },
          "execution_count": 36
        }
      ]
    },
    {
      "cell_type": "markdown",
      "metadata": {
        "id": "YI0XsoOAMKhd"
      },
      "source": [
        "As mentioned earlier, we can easily manipulate and analyze the data within Pandas. Let's get the average closing price of our stock within the past year by calling the `.mean()` method on the column access by name:"
      ]
    },
    {
      "cell_type": "code",
      "metadata": {
        "id": "s97m95KbMKhd",
        "outputId": "81c8c2bc-acf3-4feb-ba75-f5c4d6f51892",
        "colab": {
          "base_uri": "https://localhost:8080/",
          "height": 34
        }
      },
      "source": [
        "# get the mean close price!\n",
        "price_history['Close'].mean()"
      ],
      "execution_count": 37,
      "outputs": [
        {
          "output_type": "execute_result",
          "data": {
            "text/plain": [
              "39.9900016784668"
            ]
          },
          "metadata": {
            "tags": []
          },
          "execution_count": 37
        }
      ]
    },
    {
      "cell_type": "markdown",
      "metadata": {
        "id": "fj7uyzCKMKhf"
      },
      "source": [
        "We can even use the Python built-in methods like `max()` and `min()` to get the minimum and maximum close price! Just pass in the column as the parameter in these methods:"
      ]
    },
    {
      "cell_type": "code",
      "metadata": {
        "id": "Fd-m4ZUmMKhf",
        "outputId": "d9fd2b77-ebf7-4e0e-a78c-00260327d565",
        "colab": {
          "base_uri": "https://localhost:8080/",
          "height": 52
        }
      },
      "source": [
        "# try printing the max and min of the closing price!\n",
        "print('max', max(price_history['Close']))\n",
        "print('min', min(price_history['Close']))"
      ],
      "execution_count": 38,
      "outputs": [
        {
          "output_type": "stream",
          "text": [
            "max 39.9900016784668\n",
            "min 39.9900016784668\n"
          ],
          "name": "stdout"
        }
      ]
    },
    {
      "cell_type": "markdown",
      "metadata": {
        "id": "826ZtqU0MKhj"
      },
      "source": [
        "Learn more about element-wise operations on TrackIT!\n",
        "\n",
        "Just how we can analyze data in-place, we can also create new columns with computed values on-the-fly. Let's create a new column that'll tell us the absolute difference between opening and closing stock prices:"
      ]
    },
    {
      "cell_type": "code",
      "metadata": {
        "tags": [],
        "id": "t1nQU0vUMKhj",
        "outputId": "6b5f5af3-a7c7-446d-a15f-50cd11ff66ca",
        "colab": {
          "base_uri": "https://localhost:8080/",
          "height": 136
        }
      },
      "source": [
        "\n",
        "price_history['Diff'] = abs(price_history['Close'] - price_history['Open'])\n",
        "price_history\n"
      ],
      "execution_count": 39,
      "outputs": [
        {
          "output_type": "execute_result",
          "data": {
            "text/html": [
              "<div>\n",
              "<style scoped>\n",
              "    .dataframe tbody tr th:only-of-type {\n",
              "        vertical-align: middle;\n",
              "    }\n",
              "\n",
              "    .dataframe tbody tr th {\n",
              "        vertical-align: top;\n",
              "    }\n",
              "\n",
              "    .dataframe thead th {\n",
              "        text-align: right;\n",
              "    }\n",
              "</style>\n",
              "<table border=\"1\" class=\"dataframe\">\n",
              "  <thead>\n",
              "    <tr style=\"text-align: right;\">\n",
              "      <th></th>\n",
              "      <th>Open</th>\n",
              "      <th>High</th>\n",
              "      <th>Low</th>\n",
              "      <th>Close</th>\n",
              "      <th>Adj Close</th>\n",
              "      <th>Volume</th>\n",
              "      <th>Diff</th>\n",
              "    </tr>\n",
              "    <tr>\n",
              "      <th>Date</th>\n",
              "      <th></th>\n",
              "      <th></th>\n",
              "      <th></th>\n",
              "      <th></th>\n",
              "      <th></th>\n",
              "      <th></th>\n",
              "      <th></th>\n",
              "    </tr>\n",
              "  </thead>\n",
              "  <tbody>\n",
              "    <tr>\n",
              "      <th>2020-10-16</th>\n",
              "      <td>39.490002</td>\n",
              "      <td>40.384998</td>\n",
              "      <td>39.200001</td>\n",
              "      <td>39.990002</td>\n",
              "      <td>39.990002</td>\n",
              "      <td>203000</td>\n",
              "      <td>0.5</td>\n",
              "    </tr>\n",
              "    <tr>\n",
              "      <th>2020-10-16</th>\n",
              "      <td>39.490002</td>\n",
              "      <td>40.384899</td>\n",
              "      <td>39.200001</td>\n",
              "      <td>39.990002</td>\n",
              "      <td>39.990002</td>\n",
              "      <td>202988</td>\n",
              "      <td>0.5</td>\n",
              "    </tr>\n",
              "  </tbody>\n",
              "</table>\n",
              "</div>"
            ],
            "text/plain": [
              "                 Open       High        Low      Close  Adj Close  Volume  Diff\n",
              "Date                                                                           \n",
              "2020-10-16  39.490002  40.384998  39.200001  39.990002  39.990002  203000   0.5\n",
              "2020-10-16  39.490002  40.384899  39.200001  39.990002  39.990002  202988   0.5"
            ]
          },
          "metadata": {
            "tags": []
          },
          "execution_count": 39
        }
      ]
    },
    {
      "cell_type": "markdown",
      "metadata": {
        "id": "lRn3tLKMMKhl"
      },
      "source": [
        "We can then use this column to find the day when the difference between opening and closing was the highest using the `max()` method learned before and a new method called `loc`:\n",
        "\n",
        "Learn how `.loc` works on TrackIT!"
      ]
    },
    {
      "cell_type": "code",
      "metadata": {
        "id": "TDVIDcq7MKhm",
        "outputId": "83f3c32e-00fb-4cb1-a7d4-b7519c92f791",
        "colab": {
          "base_uri": "https://localhost:8080/",
          "height": 202
        }
      },
      "source": [
        "price_history['Diff'] == max_diff\n",
        "# in the square brackets, put the name of the diff column `==` the max_diff above.\n",
        "price_history.loc[price_history['Diff'] == max_diff]"
      ],
      "execution_count": 40,
      "outputs": [
        {
          "output_type": "error",
          "ename": "NameError",
          "evalue": "ignored",
          "traceback": [
            "\u001b[0;31m---------------------------------------------------------------------------\u001b[0m",
            "\u001b[0;31mNameError\u001b[0m                                 Traceback (most recent call last)",
            "\u001b[0;32m<ipython-input-40-3806efad5005>\u001b[0m in \u001b[0;36m<module>\u001b[0;34m()\u001b[0m\n\u001b[0;32m----> 1\u001b[0;31m \u001b[0mprice_history\u001b[0m\u001b[0;34m[\u001b[0m\u001b[0;34m'Diff'\u001b[0m\u001b[0;34m]\u001b[0m \u001b[0;34m==\u001b[0m \u001b[0mmax_diff\u001b[0m\u001b[0;34m\u001b[0m\u001b[0;34m\u001b[0m\u001b[0m\n\u001b[0m\u001b[1;32m      2\u001b[0m \u001b[0;31m# in the square brackets, put the name of the diff column `==` the max_diff above.\u001b[0m\u001b[0;34m\u001b[0m\u001b[0;34m\u001b[0m\u001b[0;34m\u001b[0m\u001b[0m\n\u001b[1;32m      3\u001b[0m \u001b[0mprice_history\u001b[0m\u001b[0;34m.\u001b[0m\u001b[0mloc\u001b[0m\u001b[0;34m[\u001b[0m\u001b[0mprice_history\u001b[0m\u001b[0;34m[\u001b[0m\u001b[0;34m'Diff'\u001b[0m\u001b[0;34m]\u001b[0m \u001b[0;34m==\u001b[0m \u001b[0mmax_diff\u001b[0m\u001b[0;34m]\u001b[0m\u001b[0;34m\u001b[0m\u001b[0;34m\u001b[0m\u001b[0m\n",
            "\u001b[0;31mNameError\u001b[0m: name 'max_diff' is not defined"
          ]
        }
      ]
    },
    {
      "cell_type": "markdown",
      "metadata": {
        "id": "vH7eRfE_MKho"
      },
      "source": [
        "One of the most common visualizations that come to mind when it comes to any traded equities is a graph of its price over time. A library called Matplotlib makes it really easy to create good-looking graphs that show off your data.\n",
        "\n",
        "Let's pull in matplotlib:"
      ]
    },
    {
      "cell_type": "code",
      "metadata": {
        "id": "1vxaX_ylMKhp"
      },
      "source": [
        "# Install matplotlib\n",
        "!pip3 install --upgrade matplotlib\n",
        "# Import matplotlib\n",
        "import matplotlib.pyplot as plt"
      ],
      "execution_count": null,
      "outputs": []
    },
    {
      "cell_type": "markdown",
      "metadata": {
        "id": "v5tZJxhuMKhr"
      },
      "source": [
        "Let's use the `plt.plot` method to graph the date on the x-axis and the closing price on the y-axis. Let's also graph the absolute difference between the opening and closing values:"
      ]
    },
    {
      "cell_type": "code",
      "metadata": {
        "id": "5Ir3_3wMMKhs"
      },
      "source": [
        "# Make our graphs wide enough to display all data\n",
        "plt.figure(figsize=(12,8))\n",
        "# Plot graph using plt.plot(x, y). Try it!\n",
        "plt.plot(price_history.index, price_history['Diff'])\n",
        "plt.plot(price_history.index, price_history['Close'])\n"
      ],
      "execution_count": null,
      "outputs": []
    },
    {
      "cell_type": "markdown",
      "metadata": {
        "id": "IiLPl1W6MKhu"
      },
      "source": [
        "Let's take a closer look at recent performance of our stock, for the past 14 days.\n",
        "\n",
        "In order to do that, we first need to get the last 14 entries from our `price_history` DataFrame, clear the matplotlib figure using `.clf()`, and then plot it again."
      ]
    },
    {
      "cell_type": "code",
      "metadata": {
        "id": "xCmqMc6OMKhu"
      },
      "source": [
        "# Get the last 7 using DataFrame slicing!\n",
        "last_week = price_history[-14:]\n",
        "# Clear the figure\n",
        "plt.clf()\n",
        "# Make our graphs wide enough to display all data\n",
        "plt.figure(figsize=(12,8))\n",
        "# Plot it again\n",
        "plt.plot(last_week.index, last_week['Close'])"
      ],
      "execution_count": null,
      "outputs": []
    },
    {
      "cell_type": "markdown",
      "metadata": {
        "id": "t5ugHPqoMKhx"
      },
      "source": [
        "What kinds of determinations can you make based on the historical price of the stock and the recent performance of the stock? Write 1-2 lines or less of observations down in the string below."
      ]
    },
    {
      "cell_type": "code",
      "metadata": {
        "id": "e71bEKliMKhx"
      },
      "source": [
        "# Fill in the blank string!\n",
        "price_analysis = 'Stock is doing ok, not much change.'"
      ],
      "execution_count": null,
      "outputs": []
    },
    {
      "cell_type": "markdown",
      "metadata": {
        "id": "ydPiZVHhMKhz"
      },
      "source": [
        "Now that we've done some basic data analysis, let's use some metrics that we got from Yahoo Finance to determine if the stock is overvalued!"
      ]
    },
    {
      "cell_type": "markdown",
      "metadata": {
        "id": "mzWNAQvDMKhz"
      },
      "source": [
        "## Part III: Determining If A Stock Is Overvalued\n",
        "\n",
        "This is a section filled with a bit of jargon. Don't worry, we'll try to go over it at a high level.\n",
        "\n",
        "Investors use key metrics to determine if a stock is worth investing in, such as **PEG Ratio**, **EPS**, and general industry/stock trends (among other things). One thing to keep in mind that none of this is an exact science, and even the best hedge funds can only offer a 7-9% return on investment.\n",
        "\n",
        "\n",
        "### PEG Ratios\n",
        "The **PEG ratio**, which is short for Price over Earnings-to-Growth ratio, is a ratio of how much a stock is priced compared how much a company makes (adjusted for growth). A low PEG ratio will tell you that the stock is trading lower than how much the company makes, and a really high PEG ratio tells you that the stock is trading much higher than what the company makes.\n",
        "\n",
        "A stock with a high PEG ratio could suggest that the stock is being held up by hype or market speculation on their long-term future growth. A low PEG ratio could tell you that a stock may be underrated (however, in a real scenario, it's a good idea to do more research, since there may be a major reason why the stock is trading so low).\n",
        "\n",
        "See TrackIT for more resources on the PEG ratio!\n",
        "\n",
        "Let's view the PEG ratio of our stock:\n"
      ]
    },
    {
      "cell_type": "code",
      "metadata": {
        "id": "W_QB1I12MKh0",
        "outputId": "52c696a2-aaa8-4dbb-dcde-6d3cb4cb985e",
        "colab": {
          "base_uri": "https://localhost:8080/",
          "height": 34
        }
      },
      "source": [
        "# print pegRatio!\n",
        "print(pegRatio)"
      ],
      "execution_count": 42,
      "outputs": [
        {
          "output_type": "stream",
          "text": [
            "pegRatio\n"
          ],
          "name": "stdout"
        }
      ]
    },
    {
      "cell_type": "markdown",
      "metadata": {
        "id": "49ZtSEakMKh1"
      },
      "source": [
        "A negative PEG ratio may mean the growth of the company is negative. While not an explicit warning to stay away from the stock, keep in mind low company growth leads to stock price drops long-term.\n",
        "\n",
        "When considering PEG ratios, also consider the sector the stock is in. Tech is a high-growth sector, while oil and gas isn't really the definition of growth.\n",
        "\n",
        "### EPS Ratio\n",
        "\n",
        "The **EPS**, or the Earnings Per Share, tells you the amount of money a company made per stock it has issued. As indicated by Investopedia:\n",
        "\n",
        "> A higher EPS indicates greater value because investors will pay more for a company's shares if they think the company has higher profits relative to its share price.\n",
        "\n",
        "For more resources on the EPS ratio, see TrackIT!\n",
        "\n",
        "With the data from Yahoo Finance, we've gotten two EPS values, a *trailing* EPS and a *forward* EPS. The trailing EPS is based on historical earnings, while the forward EPS is based on earnings forecasts.\n",
        "\n",
        "Let's print both EPS values:"
      ]
    },
    {
      "cell_type": "code",
      "metadata": {
        "id": "3JvqohBFMKh2",
        "outputId": "e8299631-8738-4cd0-9206-df011b0f0e37",
        "colab": {
          "base_uri": "https://localhost:8080/",
          "height": 52
        }
      },
      "source": [
        "# print both trailingEps and forwardEps!\n",
        "print('trailingEPS', trailingEps)\n",
        "print('forwardEPS', forwardEps)"
      ],
      "execution_count": 45,
      "outputs": [
        {
          "output_type": "stream",
          "text": [
            "trailingEPS trailingEps\n",
            "forwardEPS forwardEps\n"
          ],
          "name": "stdout"
        }
      ]
    },
    {
      "cell_type": "markdown",
      "metadata": {
        "id": "8q8LaEvtMKh4"
      },
      "source": [
        "Now, using those two metrics, it's time to make a determination on whether or not you think the stock's overvalued!\n",
        "\n",
        "Keep in mind that this is largely opinion-based but still backed by metrics. Many analysts disagree on whether a stock is currently overvalued or not, so it's totally fine if you get it wrong. After all, you're just getting started with stock analysis!\n",
        "\n",
        "Here's some factors to consider:\n",
        "- Is the PEG high or low? And is the EPS or the industry it's in high-growth enough to support that PEG?\n",
        "- How has the stock been doing recently (look at the graph you made above)? Has there been any growth in either direction to support the PEG?\n",
        "- How's the industry the stock is in doing in general? For example, biotech is on fire right now given how rapid vaccine development is occurring."
      ]
    },
    {
      "cell_type": "code",
      "metadata": {
        "id": "HnAy_R8JMKh4"
      },
      "source": [
        "# change this to True or False based on your determination!\n",
        "overvalued = True\n",
        "# enter your discord tag here!\n",
        "discord_tag = 'cookiemonster#0155'"
      ],
      "execution_count": 46,
      "outputs": []
    },
    {
      "cell_type": "code",
      "metadata": {
        "id": "1aLXOLMoMKh6",
        "outputId": "d1d1a85e-7708-4342-ca93-9d1695b76980",
        "colab": {
          "base_uri": "https://localhost:8080/",
          "height": 974
        }
      },
      "source": [
        "# Run this cell to generate an infographic. See TrackIT to learn how it works!\n",
        "# DO NOT MODIFY\n",
        "# Supplementary code to generate infographic\n",
        "import urllib.request\n",
        "import matplotlib.image as mpimg\n",
        "\n",
        "# save_graph method\n",
        "\"\"\"\n",
        "save_graph()\n",
        "- Generates an infographic.\n",
        "\"\"\"\n",
        "def save_graph(ticker, price_history, logo_url, short_name, industry, discord_tag, overvalued, peg_ratio):\n",
        "    ov_txt = 'overvalued' if overvalued else 'undervalued'\n",
        "    # avoid axis overlap\n",
        "    fig = plt.figure(figsize=(10,12), dpi=300, constrained_layout=True)\n",
        "    # Use GridSpec for customising layout\n",
        "    gs = fig.add_gridspec(nrows=6, ncols=4)\n",
        "    # Logo image\n",
        "    logo_image = fig.add_subplot(gs[0, 0])\n",
        "    logo_image.axis('off')\n",
        "    urllib.request.urlretrieve(logo_url, 'logo.png')\n",
        "    stock_image = plt.imread('logo.png')\n",
        "    logo_image.imshow(stock_image)\n",
        "    # Text\n",
        "    text = fig.add_subplot(gs[0, 1:])\n",
        "    text.axis('off')\n",
        "    text.text(0, 0.7, short_name, horizontalalignment='left', verticalalignment='center', fontsize=30, fontweight='bold')\n",
        "    text.text(0, 0.4, f'Ticker: {ticker}', horizontalalignment='left', verticalalignment='center', fontsize=20)\n",
        "    text.text(0, 0.0, f'{industry}', horizontalalignment='left', verticalalignment='bottom', fontsize=20, fontstyle='italic')\n",
        "    # Overvalued?\n",
        "    ov = fig.add_subplot(gs[1, :])\n",
        "    ov.axis('off')\n",
        "    ov.text(0.5, 0.85, f'{discord_tag}', horizontalalignment='center', verticalalignment='center', fontsize=30, fontweight='bold')\n",
        "    ov.text(0.5, 0.65, f'determined this stock was', horizontalalignment='center', verticalalignment='top', fontsize=20)\n",
        "    ov.text(0.5, 0.00, f'{ov_txt}', horizontalalignment='center', verticalalignment='bottom', fontsize=40, fontweight='bold', color='darkred')\n",
        "    # Graph\n",
        "    stock_graph = fig.add_subplot(gs[2:5, :])\n",
        "    stock_graph.set_title('YTD Stock Price')\n",
        "    stock_graph.plot(price_history.index, price_history['Close'], linewidth=3)\n",
        "    # PEG ratio\n",
        "    peg = fig.add_subplot(gs[5, :])\n",
        "    peg.axis('off')\n",
        "    peg.text(0.5, 0.5, f'PEG Ratio: {peg_ratio}', horizontalalignment='center', verticalalignment='center', fontsize=30, fontstyle='italic', fontweight='bold')\n",
        "    plt.savefig(f'{ticker}.png', facecolor='white', transparent=True, bbox_inches='tight')\n",
        "\n",
        "save_graph(ticker, price_history, logo_url, shortName, industry, discord_tag, overvalued, pegRatio)"
      ],
      "execution_count": 47,
      "outputs": [
        {
          "output_type": "error",
          "ename": "ValueError",
          "evalue": "ignored",
          "traceback": [
            "\u001b[0;31m---------------------------------------------------------------------------\u001b[0m",
            "\u001b[0;31mValueError\u001b[0m                                Traceback (most recent call last)",
            "\u001b[0;32m<ipython-input-47-b7827f6c8291>\u001b[0m in \u001b[0;36m<module>\u001b[0;34m()\u001b[0m\n\u001b[1;32m     44\u001b[0m     \u001b[0mplt\u001b[0m\u001b[0;34m.\u001b[0m\u001b[0msavefig\u001b[0m\u001b[0;34m(\u001b[0m\u001b[0;34mf'{ticker}.png'\u001b[0m\u001b[0;34m,\u001b[0m \u001b[0mfacecolor\u001b[0m\u001b[0;34m=\u001b[0m\u001b[0;34m'white'\u001b[0m\u001b[0;34m,\u001b[0m \u001b[0mtransparent\u001b[0m\u001b[0;34m=\u001b[0m\u001b[0;32mTrue\u001b[0m\u001b[0;34m,\u001b[0m \u001b[0mbbox_inches\u001b[0m\u001b[0;34m=\u001b[0m\u001b[0;34m'tight'\u001b[0m\u001b[0;34m)\u001b[0m\u001b[0;34m\u001b[0m\u001b[0;34m\u001b[0m\u001b[0m\n\u001b[1;32m     45\u001b[0m \u001b[0;34m\u001b[0m\u001b[0m\n\u001b[0;32m---> 46\u001b[0;31m \u001b[0msave_graph\u001b[0m\u001b[0;34m(\u001b[0m\u001b[0mticker\u001b[0m\u001b[0;34m,\u001b[0m \u001b[0mprice_history\u001b[0m\u001b[0;34m,\u001b[0m \u001b[0mlogo_url\u001b[0m\u001b[0;34m,\u001b[0m \u001b[0mshortName\u001b[0m\u001b[0;34m,\u001b[0m \u001b[0mindustry\u001b[0m\u001b[0;34m,\u001b[0m \u001b[0mdiscord_tag\u001b[0m\u001b[0;34m,\u001b[0m \u001b[0movervalued\u001b[0m\u001b[0;34m,\u001b[0m \u001b[0mpegRatio\u001b[0m\u001b[0;34m)\u001b[0m\u001b[0;34m\u001b[0m\u001b[0;34m\u001b[0m\u001b[0m\n\u001b[0m",
            "\u001b[0;32m<ipython-input-47-b7827f6c8291>\u001b[0m in \u001b[0;36msave_graph\u001b[0;34m(ticker, price_history, logo_url, short_name, industry, discord_tag, overvalued, peg_ratio)\u001b[0m\n\u001b[1;32m     19\u001b[0m     \u001b[0mlogo_image\u001b[0m \u001b[0;34m=\u001b[0m \u001b[0mfig\u001b[0m\u001b[0;34m.\u001b[0m\u001b[0madd_subplot\u001b[0m\u001b[0;34m(\u001b[0m\u001b[0mgs\u001b[0m\u001b[0;34m[\u001b[0m\u001b[0;36m0\u001b[0m\u001b[0;34m,\u001b[0m \u001b[0;36m0\u001b[0m\u001b[0;34m]\u001b[0m\u001b[0;34m)\u001b[0m\u001b[0;34m\u001b[0m\u001b[0;34m\u001b[0m\u001b[0m\n\u001b[1;32m     20\u001b[0m     \u001b[0mlogo_image\u001b[0m\u001b[0;34m.\u001b[0m\u001b[0maxis\u001b[0m\u001b[0;34m(\u001b[0m\u001b[0;34m'off'\u001b[0m\u001b[0;34m)\u001b[0m\u001b[0;34m\u001b[0m\u001b[0;34m\u001b[0m\u001b[0m\n\u001b[0;32m---> 21\u001b[0;31m     \u001b[0murllib\u001b[0m\u001b[0;34m.\u001b[0m\u001b[0mrequest\u001b[0m\u001b[0;34m.\u001b[0m\u001b[0murlretrieve\u001b[0m\u001b[0;34m(\u001b[0m\u001b[0mlogo_url\u001b[0m\u001b[0;34m,\u001b[0m \u001b[0;34m'logo.png'\u001b[0m\u001b[0;34m)\u001b[0m\u001b[0;34m\u001b[0m\u001b[0;34m\u001b[0m\u001b[0m\n\u001b[0m\u001b[1;32m     22\u001b[0m     \u001b[0mstock_image\u001b[0m \u001b[0;34m=\u001b[0m \u001b[0mplt\u001b[0m\u001b[0;34m.\u001b[0m\u001b[0mimread\u001b[0m\u001b[0;34m(\u001b[0m\u001b[0;34m'logo.png'\u001b[0m\u001b[0;34m)\u001b[0m\u001b[0;34m\u001b[0m\u001b[0;34m\u001b[0m\u001b[0m\n\u001b[1;32m     23\u001b[0m     \u001b[0mlogo_image\u001b[0m\u001b[0;34m.\u001b[0m\u001b[0mimshow\u001b[0m\u001b[0;34m(\u001b[0m\u001b[0mstock_image\u001b[0m\u001b[0;34m)\u001b[0m\u001b[0;34m\u001b[0m\u001b[0;34m\u001b[0m\u001b[0m\n",
            "\u001b[0;32m/usr/lib/python3.6/urllib/request.py\u001b[0m in \u001b[0;36murlretrieve\u001b[0;34m(url, filename, reporthook, data)\u001b[0m\n\u001b[1;32m    246\u001b[0m     \u001b[0murl_type\u001b[0m\u001b[0;34m,\u001b[0m \u001b[0mpath\u001b[0m \u001b[0;34m=\u001b[0m \u001b[0msplittype\u001b[0m\u001b[0;34m(\u001b[0m\u001b[0murl\u001b[0m\u001b[0;34m)\u001b[0m\u001b[0;34m\u001b[0m\u001b[0;34m\u001b[0m\u001b[0m\n\u001b[1;32m    247\u001b[0m \u001b[0;34m\u001b[0m\u001b[0m\n\u001b[0;32m--> 248\u001b[0;31m     \u001b[0;32mwith\u001b[0m \u001b[0mcontextlib\u001b[0m\u001b[0;34m.\u001b[0m\u001b[0mclosing\u001b[0m\u001b[0;34m(\u001b[0m\u001b[0murlopen\u001b[0m\u001b[0;34m(\u001b[0m\u001b[0murl\u001b[0m\u001b[0;34m,\u001b[0m \u001b[0mdata\u001b[0m\u001b[0;34m)\u001b[0m\u001b[0;34m)\u001b[0m \u001b[0;32mas\u001b[0m \u001b[0mfp\u001b[0m\u001b[0;34m:\u001b[0m\u001b[0;34m\u001b[0m\u001b[0;34m\u001b[0m\u001b[0m\n\u001b[0m\u001b[1;32m    249\u001b[0m         \u001b[0mheaders\u001b[0m \u001b[0;34m=\u001b[0m \u001b[0mfp\u001b[0m\u001b[0;34m.\u001b[0m\u001b[0minfo\u001b[0m\u001b[0;34m(\u001b[0m\u001b[0;34m)\u001b[0m\u001b[0;34m\u001b[0m\u001b[0;34m\u001b[0m\u001b[0m\n\u001b[1;32m    250\u001b[0m \u001b[0;34m\u001b[0m\u001b[0m\n",
            "\u001b[0;32m/usr/lib/python3.6/urllib/request.py\u001b[0m in \u001b[0;36murlopen\u001b[0;34m(url, data, timeout, cafile, capath, cadefault, context)\u001b[0m\n\u001b[1;32m    221\u001b[0m     \u001b[0;32melse\u001b[0m\u001b[0;34m:\u001b[0m\u001b[0;34m\u001b[0m\u001b[0;34m\u001b[0m\u001b[0m\n\u001b[1;32m    222\u001b[0m         \u001b[0mopener\u001b[0m \u001b[0;34m=\u001b[0m \u001b[0m_opener\u001b[0m\u001b[0;34m\u001b[0m\u001b[0;34m\u001b[0m\u001b[0m\n\u001b[0;32m--> 223\u001b[0;31m     \u001b[0;32mreturn\u001b[0m \u001b[0mopener\u001b[0m\u001b[0;34m.\u001b[0m\u001b[0mopen\u001b[0m\u001b[0;34m(\u001b[0m\u001b[0murl\u001b[0m\u001b[0;34m,\u001b[0m \u001b[0mdata\u001b[0m\u001b[0;34m,\u001b[0m \u001b[0mtimeout\u001b[0m\u001b[0;34m)\u001b[0m\u001b[0;34m\u001b[0m\u001b[0;34m\u001b[0m\u001b[0m\n\u001b[0m\u001b[1;32m    224\u001b[0m \u001b[0;34m\u001b[0m\u001b[0m\n\u001b[1;32m    225\u001b[0m \u001b[0;32mdef\u001b[0m \u001b[0minstall_opener\u001b[0m\u001b[0;34m(\u001b[0m\u001b[0mopener\u001b[0m\u001b[0;34m)\u001b[0m\u001b[0;34m:\u001b[0m\u001b[0;34m\u001b[0m\u001b[0;34m\u001b[0m\u001b[0m\n",
            "\u001b[0;32m/usr/lib/python3.6/urllib/request.py\u001b[0m in \u001b[0;36mopen\u001b[0;34m(self, fullurl, data, timeout)\u001b[0m\n\u001b[1;32m    509\u001b[0m         \u001b[0;31m# accept a URL or a Request object\u001b[0m\u001b[0;34m\u001b[0m\u001b[0;34m\u001b[0m\u001b[0;34m\u001b[0m\u001b[0m\n\u001b[1;32m    510\u001b[0m         \u001b[0;32mif\u001b[0m \u001b[0misinstance\u001b[0m\u001b[0;34m(\u001b[0m\u001b[0mfullurl\u001b[0m\u001b[0;34m,\u001b[0m \u001b[0mstr\u001b[0m\u001b[0;34m)\u001b[0m\u001b[0;34m:\u001b[0m\u001b[0;34m\u001b[0m\u001b[0;34m\u001b[0m\u001b[0m\n\u001b[0;32m--> 511\u001b[0;31m             \u001b[0mreq\u001b[0m \u001b[0;34m=\u001b[0m \u001b[0mRequest\u001b[0m\u001b[0;34m(\u001b[0m\u001b[0mfullurl\u001b[0m\u001b[0;34m,\u001b[0m \u001b[0mdata\u001b[0m\u001b[0;34m)\u001b[0m\u001b[0;34m\u001b[0m\u001b[0;34m\u001b[0m\u001b[0m\n\u001b[0m\u001b[1;32m    512\u001b[0m         \u001b[0;32melse\u001b[0m\u001b[0;34m:\u001b[0m\u001b[0;34m\u001b[0m\u001b[0;34m\u001b[0m\u001b[0m\n\u001b[1;32m    513\u001b[0m             \u001b[0mreq\u001b[0m \u001b[0;34m=\u001b[0m \u001b[0mfullurl\u001b[0m\u001b[0;34m\u001b[0m\u001b[0;34m\u001b[0m\u001b[0m\n",
            "\u001b[0;32m/usr/lib/python3.6/urllib/request.py\u001b[0m in \u001b[0;36m__init__\u001b[0;34m(self, url, data, headers, origin_req_host, unverifiable, method)\u001b[0m\n\u001b[1;32m    327\u001b[0m                  \u001b[0morigin_req_host\u001b[0m\u001b[0;34m=\u001b[0m\u001b[0;32mNone\u001b[0m\u001b[0;34m,\u001b[0m \u001b[0munverifiable\u001b[0m\u001b[0;34m=\u001b[0m\u001b[0;32mFalse\u001b[0m\u001b[0;34m,\u001b[0m\u001b[0;34m\u001b[0m\u001b[0;34m\u001b[0m\u001b[0m\n\u001b[1;32m    328\u001b[0m                  method=None):\n\u001b[0;32m--> 329\u001b[0;31m         \u001b[0mself\u001b[0m\u001b[0;34m.\u001b[0m\u001b[0mfull_url\u001b[0m \u001b[0;34m=\u001b[0m \u001b[0murl\u001b[0m\u001b[0;34m\u001b[0m\u001b[0;34m\u001b[0m\u001b[0m\n\u001b[0m\u001b[1;32m    330\u001b[0m         \u001b[0mself\u001b[0m\u001b[0;34m.\u001b[0m\u001b[0mheaders\u001b[0m \u001b[0;34m=\u001b[0m \u001b[0;34m{\u001b[0m\u001b[0;34m}\u001b[0m\u001b[0;34m\u001b[0m\u001b[0;34m\u001b[0m\u001b[0m\n\u001b[1;32m    331\u001b[0m         \u001b[0mself\u001b[0m\u001b[0;34m.\u001b[0m\u001b[0munredirected_hdrs\u001b[0m \u001b[0;34m=\u001b[0m \u001b[0;34m{\u001b[0m\u001b[0;34m}\u001b[0m\u001b[0;34m\u001b[0m\u001b[0;34m\u001b[0m\u001b[0m\n",
            "\u001b[0;32m/usr/lib/python3.6/urllib/request.py\u001b[0m in \u001b[0;36mfull_url\u001b[0;34m(self, url)\u001b[0m\n\u001b[1;32m    353\u001b[0m         \u001b[0mself\u001b[0m\u001b[0;34m.\u001b[0m\u001b[0m_full_url\u001b[0m \u001b[0;34m=\u001b[0m \u001b[0munwrap\u001b[0m\u001b[0;34m(\u001b[0m\u001b[0murl\u001b[0m\u001b[0;34m)\u001b[0m\u001b[0;34m\u001b[0m\u001b[0;34m\u001b[0m\u001b[0m\n\u001b[1;32m    354\u001b[0m         \u001b[0mself\u001b[0m\u001b[0;34m.\u001b[0m\u001b[0m_full_url\u001b[0m\u001b[0;34m,\u001b[0m \u001b[0mself\u001b[0m\u001b[0;34m.\u001b[0m\u001b[0mfragment\u001b[0m \u001b[0;34m=\u001b[0m \u001b[0msplittag\u001b[0m\u001b[0;34m(\u001b[0m\u001b[0mself\u001b[0m\u001b[0;34m.\u001b[0m\u001b[0m_full_url\u001b[0m\u001b[0;34m)\u001b[0m\u001b[0;34m\u001b[0m\u001b[0;34m\u001b[0m\u001b[0m\n\u001b[0;32m--> 355\u001b[0;31m         \u001b[0mself\u001b[0m\u001b[0;34m.\u001b[0m\u001b[0m_parse\u001b[0m\u001b[0;34m(\u001b[0m\u001b[0;34m)\u001b[0m\u001b[0;34m\u001b[0m\u001b[0;34m\u001b[0m\u001b[0m\n\u001b[0m\u001b[1;32m    356\u001b[0m \u001b[0;34m\u001b[0m\u001b[0m\n\u001b[1;32m    357\u001b[0m     \u001b[0;34m@\u001b[0m\u001b[0mfull_url\u001b[0m\u001b[0;34m.\u001b[0m\u001b[0mdeleter\u001b[0m\u001b[0;34m\u001b[0m\u001b[0;34m\u001b[0m\u001b[0m\n",
            "\u001b[0;32m/usr/lib/python3.6/urllib/request.py\u001b[0m in \u001b[0;36m_parse\u001b[0;34m(self)\u001b[0m\n\u001b[1;32m    382\u001b[0m         \u001b[0mself\u001b[0m\u001b[0;34m.\u001b[0m\u001b[0mtype\u001b[0m\u001b[0;34m,\u001b[0m \u001b[0mrest\u001b[0m \u001b[0;34m=\u001b[0m \u001b[0msplittype\u001b[0m\u001b[0;34m(\u001b[0m\u001b[0mself\u001b[0m\u001b[0;34m.\u001b[0m\u001b[0m_full_url\u001b[0m\u001b[0;34m)\u001b[0m\u001b[0;34m\u001b[0m\u001b[0;34m\u001b[0m\u001b[0m\n\u001b[1;32m    383\u001b[0m         \u001b[0;32mif\u001b[0m \u001b[0mself\u001b[0m\u001b[0;34m.\u001b[0m\u001b[0mtype\u001b[0m \u001b[0;32mis\u001b[0m \u001b[0;32mNone\u001b[0m\u001b[0;34m:\u001b[0m\u001b[0;34m\u001b[0m\u001b[0;34m\u001b[0m\u001b[0m\n\u001b[0;32m--> 384\u001b[0;31m             \u001b[0;32mraise\u001b[0m \u001b[0mValueError\u001b[0m\u001b[0;34m(\u001b[0m\u001b[0;34m\"unknown url type: %r\"\u001b[0m \u001b[0;34m%\u001b[0m \u001b[0mself\u001b[0m\u001b[0;34m.\u001b[0m\u001b[0mfull_url\u001b[0m\u001b[0;34m)\u001b[0m\u001b[0;34m\u001b[0m\u001b[0;34m\u001b[0m\u001b[0m\n\u001b[0m\u001b[1;32m    385\u001b[0m         \u001b[0mself\u001b[0m\u001b[0;34m.\u001b[0m\u001b[0mhost\u001b[0m\u001b[0;34m,\u001b[0m \u001b[0mself\u001b[0m\u001b[0;34m.\u001b[0m\u001b[0mselector\u001b[0m \u001b[0;34m=\u001b[0m \u001b[0msplithost\u001b[0m\u001b[0;34m(\u001b[0m\u001b[0mrest\u001b[0m\u001b[0;34m)\u001b[0m\u001b[0;34m\u001b[0m\u001b[0;34m\u001b[0m\u001b[0m\n\u001b[1;32m    386\u001b[0m         \u001b[0;32mif\u001b[0m \u001b[0mself\u001b[0m\u001b[0;34m.\u001b[0m\u001b[0mhost\u001b[0m\u001b[0;34m:\u001b[0m\u001b[0;34m\u001b[0m\u001b[0;34m\u001b[0m\u001b[0m\n",
            "\u001b[0;31mValueError\u001b[0m: unknown url type: 'logo_url'"
          ]
        },
        {
          "output_type": "display_data",
          "data": {
            "image/png": "[encoded data removed]",
            "text/plain": [
              "<Figure size 3000x3600 with 24 Axes>"
            ]
          },
          "metadata": {
            "tags": [],
            "needs_background": "light"
          }
        }
      ]
    },
    {
      "cell_type": "code",
      "metadata": {
        "id": "00EAzj8_U6UL"
      },
      "source": [
        ""
      ],
      "execution_count": null,
      "outputs": []
    }
  ]
}